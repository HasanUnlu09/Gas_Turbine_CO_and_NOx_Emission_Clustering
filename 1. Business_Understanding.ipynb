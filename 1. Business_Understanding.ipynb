{
 "cells": [
  {
   "cell_type": "markdown",
   "id": "429fcd77-6894-40f5-89cf-2da002f4bce9",
   "metadata": {},
   "source": [
    "# Business Understanding"
   ]
  },
  {
   "cell_type": "markdown",
   "id": "10672744-855c-47f0-8df9-a55e2cd546a4",
   "metadata": {},
   "source": [
    "---"
   ]
  },
  {
   "cell_type": "markdown",
   "id": "da8291d4",
   "metadata": {},
   "source": [
    "In this project, is aimed to clustering the CO and NOx gas emission data that comes from the readings of the sensors which are located in the gas turbines in the western region of Türkiye."
   ]
  },
  {
   "cell_type": "markdown",
   "id": "868cada3-2db1-4743-beab-7ee870c0efe3",
   "metadata": {},
   "source": [
    "---"
   ]
  }
 ],
 "metadata": {
  "kernelspec": {
   "display_name": "Python 3 (ipykernel)",
   "language": "python",
   "name": "python3"
  },
  "language_info": {
   "codemirror_mode": {
    "name": "ipython",
    "version": 3
   },
   "file_extension": ".py",
   "mimetype": "text/x-python",
   "name": "python",
   "nbconvert_exporter": "python",
   "pygments_lexer": "ipython3",
   "version": "3.11.5"
  }
 },
 "nbformat": 4,
 "nbformat_minor": 5
}
